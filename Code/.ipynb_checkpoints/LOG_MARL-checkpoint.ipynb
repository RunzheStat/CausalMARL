{
 "cells": [
  {
   "cell_type": "markdown",
   "metadata": {},
   "source": [
    "2. **Targets** [tp [we can select] + T + sd_R]\n",
    "    2. better\n",
    "    3. trend\n",
    "    1. good self\n",
    "\n",
    "1. TODO\n",
    "    1. reproducibility [why still a little randomness?] NN random number?\n",
    "    1. report the true values\n",
    "\n",
    "###  Attempts\n",
    "1. wa = 1.5 is better [NO_MARL worse; but ours also worse]\n",
    "1. u_O_u_o = 20: [relatively spatial becomes worse. but ours also wrose.] [similarly, 125 learn nothing - although much better than MARL] [do not report naive?]\n",
    "1. therefore, maybe u_O_u_o = 10 is good? or u_O_u_o = 0 is just fine? would also make NO_marl looks much worse.\n",
    "2. tuning no good results yet. maybe for large error. \n",
    "\n",
    "\n",
    "**Priority**:\n",
    "1. better than no_MARL\n",
    "2. DR itself is good (better than NA) with reasonable trend\n",
    "3. better than IS\n",
    "\n",
    "\n",
    "\n",
    "### Tuning\n",
    "1. tuning\n",
    "4. sd_u_O\n",
    "2. pattern_seed\n",
    "3. w_O, w_A\n",
    "5. thre_range, sd_R_range, day_range"
   ]
  },
  {
   "cell_type": "code",
   "execution_count": 1,
   "metadata": {},
   "outputs": [
    {
     "ename": "SyntaxError",
     "evalue": "invalid syntax (<ipython-input-1-ffe7a2726d84>, line 1)",
     "output_type": "error",
     "traceback": [
      "\u001b[0;36m  File \u001b[0;32m\"<ipython-input-1-ffe7a2726d84>\"\u001b[0;36m, line \u001b[0;32m1\u001b[0m\n\u001b[0;31m    number of reward -> so trcky\u001b[0m\n\u001b[0m            ^\u001b[0m\n\u001b[0;31mSyntaxError\u001b[0m\u001b[0;31m:\u001b[0m invalid syntax\n"
     ]
    }
   ],
   "source": [
    "number of reward -> so trcky\n",
    "exp(A_t)\n",
    "sd_u_O = 25?\n",
    "\n",
    "\n",
    "反思 到底出了些什么结果\n",
    "是哪儿出问题\n",
    "不是trend\n",
    "不是不好\n",
    "是没有四个来consistent\n",
    "最近的一些 不明显地好\n",
    "penalty_range = [[3e-4, 1e-4, 5e-5], [3e-4, 1e-4, 5e-5]]\n",
    "?\n",
    "\n",
    "应该和春哥讨论。 2 * 3 即可。早点弄出来就好了 纠结啊\n",
    "\n",
    "今天和春哥的讨论"
   ]
  },
  {
   "cell_type": "raw",
   "metadata": {},
   "source": [
    "还有一点，可以把spatial的影响调大一点吗， current看前两个threshold和NS不是很大\n",
    "或者换两个threshold?\n",
    "但是要跟naive 对比吧\n",
    "把不同policy 之间的difference 弄小一些\n",
    "similar finding across patterns?\n",
    "T 增大 其实target不一样？\n",
    "\n",
    "\n",
    "我在simulation里没仔细调  。。。因为在一个范围里我发现结果都没啥大区别\n",
    "\n",
    "\n",
    "到底spatial 的 componnet 怎么弄才好呢？\n",
    " 弄几个setting 很相近？其实就会很好？sd = 20?\n",
    "u_O 小的话 不仅target 受影响。spatial 也会受影响吧\n",
    "收集各种结果 研究规律\n",
    "\n",
    "\n",
    "trend with sd_R -> no identical.\n",
    "statistical significance?\n",
    "save all results?\n"
   ]
  },
  {
   "cell_type": "raw",
   "metadata": {},
   "source": [
    "## Time cost: \n",
    "1. 10min/target/setting for T = 7\n",
    "5. the cost will scale linearly with N, the number of regions, and linearly or sublinearly with T (rough estimate). \n",
    "6. small-scale (core = 16) 试探一下; 可是要挺久的？[how? 嵌套循环?]\n",
    "\n",
    "\n",
    "1. correct the writing\n",
    "    4. logN -> normal: already [clear mean and variance]. N(0, 30)\n",
    "    1. {1 + D_{i,t}}) 【去掉了 无影响】\n",
    "    1. later u_O_u_D = 0"
   ]
  },
  {
   "cell_type": "markdown",
   "metadata": {},
   "source": [
    "1. WAIT\n",
    "    1. QV:var(DR) < var(IS)?\n",
    "        1. large penalty -> large bias\n",
    "        2. 不用QV 中的那个I. 就不work\n",
    "        1. gamma in RKHS, penalty, discretize, simple\n",
    "    1. 表现好了 差距不大; 差距大了 表现不好\n",
    "    2. 不画naive了？也不好吧？\n",
    "    1. w_O = .5 【什么量级会好】\n",
    "    1. too many R locations = always reward… good? evaluation? [no body cares ]\n",
    "   \n",
    "1. 之前的结果: [大 sd_range? appropriate? his target? the trend with sd_R and T. Theorem]\n",
    "    4. **他想做什么story** [多放两幅图?]\n",
    "    1. 最后就这两张图\n",
    "        1. **要不就第一个setting，然后把sigma=20,50,100也画进去？**\n",
    "        2. 然后再选一个sigma大一点的算一下不同的T，有个trend? \n",
    "            1. [就找一个合适的sigma好了; 稍微大一点吧，现在这个trend有点太不明显了] \n",
    "            2. [但是可能会 DR 不好]\n",
    "    3. 感觉第二个差距不大. [后者其实后面那个也可以了, 虽然没什么trend, 但比别的都好]\n",
    "\n",
    "1. 弄清楚自己到底在做什么。弄清楚想要达到的目的和目标\n",
    "    1. want to have sd_R's trend at first; 但是 大了 表现不好 那就 T = 14\n",
    "        1. seed = 100, T = 14, u_O_u_D = 10, sd_u_O = 30, sd_R_range large\n",
    "        2. seed = 2, T = 14, u_O_u_D = 0, sd_u_O = 30, sd_R_range large\n",
    "        3. T = 14: other methods also becomes better? smaller bias? hard to balance?\n",
    "    2. 试试新的setting 会有什么影响\n",
    "        2. seed = 2, T = 7, u_O_u_D = 0, sd_u_O = 20, sd_R_range \n",
    "\n",
    "2. vary_sd with other T so that results are better [14? tried? not good?]\n",
    "\n",
    "\n",
    "1. ING\n",
    "    1. w_O = 1 [setting 更自然一些]\n",
    "    2. sd_u_O = 10 [have a try] [other similar settings, e.g., other sd_u_o [总感觉会有更好的？]]\n",
    "w_O_1：不推荐。IS worse, no_marl worse\n",
    "sd_u_O_10: different targets? no clear difference. not good. \n",
    "\n",
    "\n",
    "1. we can try T trend with this setting?\n",
    "    5. sd = 15 从 T = 4 到 T = 7 没有很大的变化 [后两个TP]\n",
    "    6. sd = 30 同样。被dominated 了?\n",
    "    7. 没有就没有 好就行了？\n",
    "1. scale with T? (with other sd_R)\n",
    "    1. T大的话 大家表现都不错\n",
    "    2. T 小的话 error 太大 表现不好\n",
    "    3. error大了以后 还是会 不好？\n"
   ]
  },
  {
   "cell_type": "code",
   "execution_count": null,
   "metadata": {},
   "outputs": [],
   "source": []
  }
 ],
 "metadata": {
  "kernelspec": {
   "display_name": "Python 3",
   "language": "python",
   "name": "python3"
  },
  "language_info": {
   "codemirror_mode": {
    "name": "ipython",
    "version": 3
   },
   "file_extension": ".py",
   "mimetype": "text/x-python",
   "name": "python",
   "nbconvert_exporter": "python",
   "pygments_lexer": "ipython3",
   "version": "3.6.8"
  }
 },
 "nbformat": 4,
 "nbformat_minor": 2
}
