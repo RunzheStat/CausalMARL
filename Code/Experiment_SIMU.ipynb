{
 "cells": [
  {
   "cell_type": "code",
   "execution_count": 2,
   "metadata": {},
   "outputs": [],
   "source": [
    "from _utility import *\n",
    "from weight import *\n",
    "from simu_funs import *\n",
    "from main import *"
   ]
  },
  {
   "cell_type": "code",
   "execution_count": 33,
   "metadata": {},
   "outputs": [],
   "source": [
    "## old\n",
    "with open(\"/Users/mac/Google Drive/CausalMARL/results/final_res/T7_sd_R/0403_sd_R_0_5_3target.txt\", \"rb\") as fp:\n",
    "    b1 = pickle.load(fp) # len = 2sd_R * 1 * 3_target * (3, 6)\n",
    "b1[0][0][0]"
   ]
  },
  {
   "cell_type": "code",
   "execution_count": 8,
   "metadata": {},
   "outputs": [],
   "source": [
    "## new\n",
    "from numpy import savetxt\n",
    "with open(\"/Users/mac/Google Drive/CausalMARL/results/res_0407/0406_sd_R-2.txt\", \"rb\") as fp:\n",
    "    b2 = pickle.load(fp)\n",
    "with open(\"/Users/mac/Google Drive/CausalMARL/results/res_0407/0406_sd_R-1.txt\", \"rb\") as fp:\n",
    "    b1 = pickle.load(fp)\n",
    "sd_R = b1 + b2\n",
    "sd_Rs = [a[0] for a in sd_R] # sd_R * thre * [bias, std, mse] * n_methods"
   ]
  },
  {
   "cell_type": "code",
   "execution_count": 20,
   "metadata": {},
   "outputs": [
    {
     "data": {
      "text/plain": [
       "[array([ 1.000e-02, -2.100e-01, -1.320e+00,  1.100e-01, -6.837e+01,\n",
       "        -1.065e+01]),\n",
       " array([0.35, 0.35, 0.23, 0.27, 0.  , 0.2 ]),\n",
       " array([ 0.35,  0.41,  1.34,  0.29, 68.37, 10.65])]"
      ]
     },
     "execution_count": 20,
     "metadata": {},
     "output_type": "execute_result"
    }
   ],
   "source": [
    "sd_Rs[0][2]"
   ]
  },
  {
   "cell_type": "code",
   "execution_count": 22,
   "metadata": {},
   "outputs": [
    {
     "name": "stdout",
     "output_type": "stream",
     "text": [
      "(4, 8, 6)\n"
     ]
    }
   ],
   "source": [
    "var = arr([[thre[1] for thre in sd_R] for sd_R in sd_Rs]) # sd_R * thre * n_methods\n",
    "print(var.shape)\n",
    "for i in range(var.shape[0]):\n",
    "    savetxt('/Users/mac/Google Drive/CausalMARL/results/res_0407/plot/res_var_' + str(i + 1) + \".txt\",\n",
    "            var[i, :, :], delimiter=',') "
   ]
  },
  {
   "cell_type": "code",
   "execution_count": 15,
   "metadata": {},
   "outputs": [
    {
     "name": "stdout",
     "output_type": "stream",
     "text": [
      "(4, 8, 6)\n"
     ]
    }
   ],
   "source": [
    "bias = arr([[thre[0] for thre in sd_R] for sd_R in sd_Rs]) # sd_R * thre * n_methods\n",
    "print(bias.shape)\n",
    "for i in range(bias.shape[0]):\n",
    "    savetxt('/Users/mac/Google Drive/CausalMARL/results/res_0407/plot/res_bias_' + str(i + 1) + \".txt\",\n",
    "            bias[i, :, :], delimiter=',') "
   ]
  },
  {
   "cell_type": "code",
   "execution_count": 4,
   "metadata": {},
   "outputs": [
    {
     "name": "stdout",
     "output_type": "stream",
     "text": [
      "(4, 8, 6)\n"
     ]
    }
   ],
   "source": [
    "mses = arr([[thre[2] for thre in sd_R] for sd_R in sd_Rs])\n",
    "print(mses.shape)\n",
    "\n",
    "\n",
    "for i in range(mses.shape[1]):\n",
    "    savetxt('/Users/mac/Google Drive/CausalMARL/results/res_0407/plot/res_' + str(i + 1) + \".txt\", mses[:, i, :], delimiter=',') "
   ]
  },
  {
   "cell_type": "code",
   "execution_count": 15,
   "metadata": {},
   "outputs": [],
   "source": [
    "with open(\"/Users/mac/Desktop/final/T7_sd_R/0403_sd_R_0_5_2.txt\", \"rb\") as fp:\n",
    "    b = pickle.load(fp)\n"
   ]
  }
 ],
 "metadata": {
  "kernelspec": {
   "display_name": "Python 3",
   "language": "python",
   "name": "python3"
  },
  "language_info": {
   "codemirror_mode": {
    "name": "ipython",
    "version": 3
   },
   "file_extension": ".py",
   "mimetype": "text/x-python",
   "name": "python",
   "nbconvert_exporter": "python",
   "pygments_lexer": "ipython3",
   "version": "3.6.8"
  }
 },
 "nbformat": 4,
 "nbformat_minor": 2
}
