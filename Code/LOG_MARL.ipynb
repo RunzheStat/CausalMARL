{
 "cells": [
  {
   "cell_type": "raw",
   "metadata": {},
   "source": [
    "## MARL\n",
    "1. report to chengchun \n",
    "    1. large sd\n",
    "    2. bias\n",
    "    1. QV 的 variance 一直挺大。why. much smaller bias. why?\n",
    "    1. 昨晚 【都是在新的setting下面】\n",
    "        1. 尝试penalization 对 QV variance 的影响 [not good. wait to see]\n",
    "        2. 既然QV variance大 试试 T 的trend\n",
    "\n",
    "targets[we can select] + T + sd_R\n",
    "\n",
    "昨晚小规模地跑了以后，发现T的trend 还挺有可能的。[ T = 3: too small? not good enough results (small size) ]\n",
    "于是今天开始大规模在sd = 10 下面实验T的相关的trend ([6, 7, 10, 14] for now) for targets [80, 90, 100, 110]\n",
    "\n",
    "two possibilities\n",
    "1.  [80, 90, 100, 110] for other T\n",
    "    1. 4, 8, 12 first\n",
    "    2. just 100 and 110 no trend -> wait and see T = 14.\n",
    "2. other targets \n",
    "    1. [only 85] <- [80, 85, 90, 100]\n",
    "        1. 85 is not good even for [7, 10]. so sad\n",
    "    2. 70? 1 sd?\n",
    "    1. same T\n",
    "    2. if successed, then also other T\n",
    "\n",
    "    \n",
    "1. output: convenient for R\n",
    "1. debug\n",
    "    1. no_MF so large? why?\n",
    "    3. 使得overfitting? 把biad 弄下去？why variance 差别这么小?\n",
    "    1. reproduce[why still a little randomness?] NN random numbera\n",
    "1. other ways to present\n",
    "    1. report the true values. On Policy (Monte Carlo) - variance.\n",
    "    2. MSE, STD, Bias [result loss]\n",
    "\n",
    "but advantage over others when O_threshold = 90 is also not large\n",
    "\n"
   ]
  },
  {
   "cell_type": "raw",
   "metadata": {},
   "source": [
    "1. 想要解决的一些问题    \n",
    "    1. 在简单一些的setting上面表现好的\n",
    "        4. logN -> normal: already [clear mean and variance]. N(0, 30)\n",
    "        1. w_O = .5 \n",
    "            1. not good? not desired!\n",
    "        1. later(can not be solved!)\n",
    "            1. {1 + D_{i,t}})\n",
    "            2. e_D = 0\n",
    "            3. u_O_u_D = 0: everybody will be perfect? (can not be solved!)\n",
    "    2. 一直比他们好\n",
    "    3. 有trend (其他方法平线)(why such a result? large bias?) (can not be solved!)\n",
    "    1. bias goes to zero. i.e., our results are fine (tried my best!)\n",
    "\n",
    "## Time cost: \n",
    "without parallelization \n",
    "T = 14 * 48, for each region: \n",
    "about 20s for IS and 20s for value-function. \n",
    "therefore 2mins for each region since we have three kinds of competing method. \n",
    "the cost will scale linearly with N, the number of regions, and linearly or sublinearly with T (rough estimate). \n"
   ]
  },
  {
   "cell_type": "markdown",
   "metadata": {},
   "source": [
    "## Tuning\n",
    "1. Noise\n",
    "    1. sd_O\n",
    "    2. sd_R\n",
    "    3. sd_D\n",
    "2. spatial\n",
    "    1. w_O\n",
    "    2. w_A\n",
    "2. hyperparameters of NN and Q/V\n",
    "2. Region difference\n",
    "    1. sd_u_O\n",
    "    2. u_D = np.mean(u_O) - 2\n",
    "5. T\n",
    "6. l\n",
    "7. threshold_range\n",
    "8. pattern seed\n",
    "10. n_neigh (simple = False)\n",
    "1. Archive\n",
    "    1. mean_reversion: D_t = (D_t + u_D) / 2\n",
    "    9. p_behav\n",
    "    4. reward def"
   ]
  }
 ],
 "metadata": {
  "kernelspec": {
   "display_name": "Python 3",
   "language": "python",
   "name": "python3"
  },
  "language_info": {
   "codemirror_mode": {
    "name": "ipython",
    "version": 3
   },
   "file_extension": ".py",
   "mimetype": "text/x-python",
   "name": "python",
   "nbconvert_exporter": "python",
   "pygments_lexer": "ipython3",
   "version": "3.6.8"
  }
 },
 "nbformat": 4,
 "nbformat_minor": 2
}
