{
 "cells": [
  {
   "cell_type": "code",
   "execution_count": 9,
   "metadata": {},
   "outputs": [
    {
     "name": "stdout",
     "output_type": "stream",
     "text": [
      "101 : 8; 105 : 7; 109 : 6; 113 : 5; 117 : 3; \n",
      "--------------------------------------\n",
      "\n",
      "100 : 9; 101 : 8; 102 : 7; 103 : 7; 104 : 7; 105 : 7; 106 : 7; 107 : 6; 108 : 6; 109 : 6; 110 : 6; 111 : 6; 112 : 6; 113 : 5; 114 : 3; 115 : 3; 116 : 3; 117 : 3; 118 : 3; 119 : 3; "
     ]
    }
   ],
   "source": [
    "npseed(2)\n",
    "u_O = rnorm(100, 25, 5**2) \n",
    "for i in range(101, 120, 4):\n",
    "    print(i,\":\", sum(u_O > i), end = \"; \")\n",
    "print(DASH)\n",
    "for i in range(100, 120):\n",
    "    print(i,\":\", sum(u_O > i), end = \"; \") "
   ]
  },
  {
   "cell_type": "code",
   "execution_count": 33,
   "metadata": {},
   "outputs": [
    {
     "name": "stdout",
     "output_type": "stream",
     "text": [
      "[ 91.6648  98.8747  57.2761 132.8054  64.1313  83.1651 110.0576  75.0942\n",
      "  78.841   81.8198 111.0291 145.8442 100.8308  77.6415 110.7812  88.0768\n",
      "  99.6174 123.5     85.0426 100.1805  82.4378  96.8713 105.1314  80.2244\n",
      "  93.2236]\n",
      "8\n",
      "100 : 9; 101 : 7; 102 : 7; 103 : 7; 104 : 7; 105 : 7; 106 : 6; 107 : 6; 108 : 6; 109 : 6; 110 : 6; 111 : 4; 112 : 3; 113 : 3; 114 : 3; 115 : 3; 116 : 3; 117 : 3; 118 : 3; 119 : 3; "
     ]
    }
   ],
   "source": [
    "npseed(2)\n",
    "u_O = rnorm(100, 20, 5**2) \n",
    "print(u_O)\n",
    "print(sum(u_O > 100.5))\n",
    "for i in range(100, 120):\n",
    "    print(i,\":\", sum(u_O > i), end = \"; \") "
   ]
  },
  {
   "cell_type": "code",
   "execution_count": null,
   "metadata": {},
   "outputs": [],
   "source": []
  },
  {
   "cell_type": "code",
   "execution_count": 32,
   "metadata": {},
   "outputs": [
    {
     "name": "stdout",
     "output_type": "stream",
     "text": [
      "100 : 9; 101 : 8; 102 : 7; 103 : 7; 104 : 7; 105 : 7; 106 : 7; 107 : 7; 108 : 6; 109 : 6; 110 : 6; 111 : 6; 112 : 6; 113 : 6; 114 : 6; 115 : 6; 116 : 5; 117 : 3; 118 : 3; 119 : 3; "
     ]
    }
   ],
   "source": [
    "npseed(2)\n",
    "u_O = rnorm(100, 30, 5**2) \n",
    "for i in range(100, 120):\n",
    "    print(i,\":\", sum(u_O > i), end = \"; \") "
   ]
  },
  {
   "cell_type": "code",
   "execution_count": 31,
   "metadata": {},
   "outputs": [
    {
     "name": "stdout",
     "output_type": "stream",
     "text": [
      "100 : 9; 101 : 8; 102 : 7; 103 : 7; 104 : 7; 105 : 7; 106 : 7; 107 : 7; 108 : 7; 109 : 6; 110 : 6; 111 : 6; 112 : 6; 113 : 6; 114 : 6; 115 : 6; 116 : 6; 117 : 6; 118 : 5; 119 : 4; "
     ]
    }
   ],
   "source": [
    "npseed(2)\n",
    "u_O = rnorm(100, 35, 5**2) \n",
    "for i in range(100, 120):\n",
    "    print(i,\":\", sum(u_O > i), end = \"; \") "
   ]
  },
  {
   "cell_type": "code",
   "execution_count": 36,
   "metadata": {},
   "outputs": [
    {
     "name": "stdout",
     "output_type": "stream",
     "text": [
      "100 : 9; 101 : 8; 102 : 7; 103 : 7; 104 : 7; 105 : 7; 106 : 7; 107 : 7; 108 : 7; 109 : 7; 110 : 7; 111 : 6; 112 : 6; 113 : 6; 114 : 6; 115 : 6; 116 : 6; 117 : 6; 118 : 6; 119 : 6; 120 : 6; 121 : 5; 122 : 4; 123 : 3; 124 : 3; "
     ]
    }
   ],
   "source": [
    "npseed(2)\n",
    "u_O = rnorm(100, 40, 5**2) \n",
    "for i in range(100, 125):\n",
    "    print(i,\":\", sum(u_O > i), end = \"; \") "
   ]
  },
  {
   "cell_type": "code",
   "execution_count": 34,
   "metadata": {},
   "outputs": [
    {
     "data": {
      "text/plain": [
       "94.9665020866176"
      ]
     },
     "execution_count": 34,
     "metadata": {},
     "output_type": "execute_result"
    }
   ],
   "source": [
    "np.mean(u_O)"
   ]
  },
  {
   "cell_type": "code",
   "execution_count": 3,
   "metadata": {},
   "outputs": [],
   "source": [
    "with open(\"/Users/mac/Desktop/median_u_O_u_D_with_T_45.txt\", \"rb\") as fp:\n",
    "    Ts = pickle.load(fp) # len = 2sd_R * 1 * 3_target * (3, 6)"
   ]
  },
  {
   "cell_type": "code",
   "execution_count": 1,
   "metadata": {},
   "outputs": [],
   "source": [
    "from _utility import * \n",
    "from weight import * \n",
    "from simu_funs import *  \n",
    "from main import *\n",
    "a = now()"
   ]
  },
  {
   "cell_type": "code",
   "execution_count": 2,
   "metadata": {},
   "outputs": [],
   "source": [
    "with open(\"/Users/mac/Google Drive/CausalMARL/res_MARL/final/final_sd/final_sd.txt\", \"rb\") as fp:\n",
    "    Ts1 = pickle.load(fp) # len = 2sd_R * 1 * 3_target * (3, 6)\n",
    "Ts1 = arr(Ts1)"
   ]
  },
  {
   "cell_type": "code",
   "execution_count": 3,
   "metadata": {},
   "outputs": [],
   "source": [
    "with open(\"/Users/mac/Google Drive/CausalMARL/res_MARL/final/final_sd/final_sd_more.txt\", \"rb\") as fp:\n",
    "    Ts2 = pickle.load(fp) # len = 2sd_R * 1 * 3_target * (3, 6)\n",
    "Ts2 = arr(Ts1)"
   ]
  },
  {
   "cell_type": "code",
   "execution_count": 5,
   "metadata": {},
   "outputs": [],
   "source": [
    "Ts = [Ts1[0], Ts2[0], Ts1[1], Ts2[1], Ts1[2], Ts2[2], Ts1[3]]\n",
    "Ts = arr(Ts)"
   ]
  },
  {
   "cell_type": "code",
   "execution_count": 10,
   "metadata": {},
   "outputs": [],
   "source": [
    "# Combine results: 6[sd_R], 4 [tp], 3[metric], 6[method]\n",
    "\n",
    "Ts = Ts + Ts1[1:] + Ts2[:3]\n",
    "Ts = arr(Ts)"
   ]
  },
  {
   "cell_type": "code",
   "execution_count": null,
   "metadata": {},
   "outputs": [],
   "source": [
    "# Combine results: 6[sd_R], 4 [tp], 3[metric], 6[method]\n",
    "# Combine results\n",
    "res = []\n",
    "for i in range(len(res1)):\n",
    "    res.append(res1[i])\n",
    "    res.append(res2[i])\n",
    "Ts = arr(Ts)"
   ]
  },
  {
   "cell_type": "code",
   "execution_count": 6,
   "metadata": {},
   "outputs": [
    {
     "name": "stdout",
     "output_type": "stream",
     "text": [
      "(7, 4, 6)\n",
      "(7, 4, 6)\n",
      "(7, 4, 6)\n"
     ]
    }
   ],
   "source": [
    "# save\n",
    "from numpy import savetxt\n",
    "file_name_pre = '/Users/mac/Google Drive/CausalMARL/res_MARL/temp_py/res_sd_'\n",
    "\n",
    "arr(Ts).shape\n",
    "metrics = [\"bias\", \"std\", \"MSE\"]\n",
    "for j in range(3):\n",
    "    metric = Ts[:, :, j, :]\n",
    "    print(metric.shape)\n",
    "    for i in range(metric.shape[0]): # each sd_R [x-axis]\n",
    "        savetxt(file_name_pre + str(metrics[j]) + str(i + 1) + \".txt\", metric[i, :, :], delimiter=',')"
   ]
  },
  {
   "cell_type": "code",
   "execution_count": null,
   "metadata": {},
   "outputs": [],
   "source": []
  }
 ],
 "metadata": {
  "kernelspec": {
   "display_name": "Python 3",
   "language": "python",
   "name": "python3"
  },
  "language_info": {
   "codemirror_mode": {
    "name": "ipython",
    "version": 3
   },
   "file_extension": ".py",
   "mimetype": "text/x-python",
   "name": "python",
   "nbconvert_exporter": "python",
   "pygments_lexer": "ipython3",
   "version": "3.6.8"
  }
 },
 "nbformat": 4,
 "nbformat_minor": 2
}
