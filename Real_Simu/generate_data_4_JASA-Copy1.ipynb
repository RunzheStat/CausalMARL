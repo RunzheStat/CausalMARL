{
 "cells": [
  {
   "cell_type": "code",
   "execution_count": 7,
   "metadata": {},
   "outputs": [],
   "source": [
    "import os\n",
    "import pandas as pd\n",
    "from real_data_input import *\n",
    "from policy_definition import *\n",
    "np.random.seed(100)\n"
   ]
  },
  {
   "cell_type": "code",
   "execution_count": 8,
   "metadata": {},
   "outputs": [],
   "source": [
    "file = open(\"pseudo_data\",'rb')\n",
    "pseudo_data = pickle.load(file)\n",
    "file.close()\n",
    "\n",
    "ground_truth_adaptive_t_df = pseudo_data['ground_truth_adaptive_t_df']\n",
    "ground_truth_adaptive_ts_df = pseudo_data['ground_truth_adaptive_ts_df']\n",
    "ground_truth_adaptive_s_df = pseudo_data['ground_truth_adaptive_s_df']\n",
    "simulated_behavior_data = pseudo_data['simulated_behavior_data']\n",
    "ground_truth_adaptive_t = pseudo_data['ground_truth_adaptive_t']\n",
    "ground_truth_adaptive_ts = pseudo_data['ground_truth_adaptive_ts']\n",
    "ground_truth_adaptive_s = pseudo_data['ground_truth_adaptive_s']\n",
    "adj_matrix = pseudo_data['adj_matrix']"
   ]
  },
  {
   "cell_type": "code",
   "execution_count": 9,
   "metadata": {},
   "outputs": [],
   "source": [
    "action_promote_ratio=0.05\n",
    "week_num = 2\n",
    "pen_param = [[1e-4,1e-1], [1e-4,1e-1]]\n",
    "\n",
    "input_data_behavior = get_data_input(simulated_behavior_data)"
   ]
  },
  {
   "cell_type": "code",
   "execution_count": 10,
   "metadata": {},
   "outputs": [
    {
     "name": "stdout",
     "output_type": "stream",
     "text": [
      "begin V_DR\n",
      "done adaptive t---------------------------------------\n",
      "done adaptive ts---------------------------------------\n",
      "done adaptive s---------------------------------------\n"
     ]
    }
   ],
   "source": [
    "print('begin V_DR')\n",
    "\n",
    "result_of_pi_adaptive_t = V_DR(input_data_behavior,adj_matrix,pi_adaptive_t,bp,None,None,t_func=t_func,penalty=pen_param,CV_QV=True,\\\n",
    "                             with_MF = False,with_NO_MARL=True,inner_parallel=True)\n",
    "print('done adaptive t---------------------------------------')\n",
    "result_of_pi_adaptive_ts = V_DR(input_data_behavior,adj_matrix,pi_adaptive_ts,bp,None,None,t_func=t_func,penalty=pen_param,CV_QV=True,\\\n",
    "                             with_MF = False,with_NO_MARL=True,inner_parallel=True)\n",
    "print('done adaptive ts---------------------------------------')\n",
    "result_of_pi_adaptive_s = V_DR(input_data_behavior,adj_matrix,pi_adaptive_s,bp,None,None,t_func=t_func,penalty=pen_param,CV_QV=True,\\\n",
    "                             with_MF = False,with_NO_MARL=True,inner_parallel=True)\n",
    "print('done adaptive s---------------------------------------')\n",
    "\n",
    "result = [result_of_pi_adaptive_t,result_of_pi_adaptive_ts,result_of_pi_adaptive_s,\\\n",
    "        ground_truth_adaptive_t,ground_truth_adaptive_ts,ground_truth_adaptive_s]\n"
   ]
  }
 ],
 "metadata": {
  "kernelspec": {
   "display_name": "conda_amazonei_tensorflow_p36",
   "language": "python",
   "name": "conda_amazonei_tensorflow_p36"
  },
  "language_info": {
   "codemirror_mode": {
    "name": "ipython",
    "version": 3
   },
   "file_extension": ".py",
   "mimetype": "text/x-python",
   "name": "python",
   "nbconvert_exporter": "python",
   "pygments_lexer": "ipython3",
   "version": "3.6.10"
  }
 },
 "nbformat": 4,
 "nbformat_minor": 4
}
